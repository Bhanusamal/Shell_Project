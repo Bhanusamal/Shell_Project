{
 "cells": [
  {
   "cell_type": "code",
   "execution_count": null,
   "id": "a0948288-4ee5-4b77-b988-4c92c679f869",
   "metadata": {},
   "outputs": [],
   "source": [
    "\n",
    "import pandas as pd\n",
    "import numpy as np\n",
    "import matplotlib.pyplot as plt\n",
    "import seaborn as sns\n",
    "\n",
    "from sklearn.preprocessing import LabelEncoder, StandardScaler\n",
    "from sklearn.feature_selection import SelectKBest, f_classif\n",
    "from sklearn.ensemble import RandomForestClassifier\n",
    "\n",
    "# Load dataset\n",
    "df = pd.read_csv(\"climate_risk_dataset.csv\")\n",
    "df.head()\n"
   ]
  },
  {
   "cell_type": "code",
   "execution_count": null,
   "id": "2d3dbe84-c3ac-44a2-8b76-d20e37be62df",
   "metadata": {},
   "outputs": [],
   "source": [
    "\n",
    "# Basic Info\n",
    "print(\"Shape of dataset:\", df.shape)\n",
    "print(\"\\nDataset Info:\")\n",
    "print(df.info())\n",
    "print(\"\\nSummary Statistics:\")\n",
    "print(df.describe())\n",
    "\n",
    "# Check for missing values\n",
    "print(\"\\nMissing Values:\")\n",
    "print(df.isnull().sum())\n",
    "\n",
    "# Distribution of numerical columns\n",
    "df.hist(figsize=(12, 8), bins=30)\n",
    "plt.tight_layout()\n",
    "plt.show()\n",
    "\n",
    "# Correlation Heatmap\n",
    "plt.figure(figsize=(10,6))\n",
    "sns.heatmap(df.corr(), annot=True, cmap=\"coolwarm\")\n",
    "plt.title(\"Correlation Heatmap\")\n",
    "plt.show()\n"
   ]
  },
  {
   "cell_type": "code",
   "execution_count": null,
   "id": "1bf93eb7-b42d-4f47-8c97-17ad645c65fd",
   "metadata": {},
   "outputs": [],
   "source": [
    "\n",
    "# Handle missing values (drop or fill with mean for numerical, mode for categorical)\n",
    "for col in df.columns:\n",
    "    if df[col].dtype == \"object\":\n",
    "        df[col] = df[col].fillna(df[col].mode()[0])\n",
    "    else:\n",
    "        df[col] = df[col].fillna(df[col].mean())\n",
    "\n",
    "# Encode categorical variables\n",
    "label_enc = LabelEncoder()\n",
    "for col in df.select_dtypes(include=\"object\").columns:\n",
    "    df[col] = label_enc.fit_transform(df[col])\n",
    "\n",
    "# Standardize numerical features\n",
    "scaler = StandardScaler()\n",
    "num_cols = df.select_dtypes(include=np.number).columns\n",
    "df[num_cols] = scaler.fit_transform(df[num_cols])\n",
    "\n",
    "df.head()\n"
   ]
  },
  {
   "cell_type": "code",
   "execution_count": null,
   "id": "20e63e88-ad5d-4989-a21b-7dc507f88306",
   "metadata": {},
   "outputs": [],
   "source": [
    "\n",
    "# Assume target variable is 'Fire' (change if dataset column differs)\n",
    "target_col = \"Fire\"\n",
    "X = df.drop(columns=[target_col], errors=\"ignore\")\n",
    "y = df[target_col] if target_col in df.columns else None\n",
    "\n",
    "if y is not None:\n",
    "    # Method 1: Correlation check\n",
    "    corr = df.corr()[target_col].sort_values(ascending=False)\n",
    "    print(\"Correlation with target:\\n\", corr)\n",
    "\n",
    "    # Method 2: SelectKBest\n",
    "    selector = SelectKBest(score_func=f_classif, k=5)\n",
    "    X_new = selector.fit_transform(X, y)\n",
    "    selected_features = X.columns[selector.get_support()]\n",
    "    print(\"\\nTop 5 Features (SelectKBest):\", selected_features.tolist())\n",
    "\n",
    "    # Method 3: Feature Importance using RandomForest\n",
    "    rf = RandomForestClassifier(random_state=42)\n",
    "    rf.fit(X, y)\n",
    "    importances = pd.Series(rf.feature_importances_, index=X.columns)\n",
    "    print(\"\\nRandomForest Feature Importances:\\n\", importances.sort_values(ascending=False).head(10))\n",
    "\n",
    "    # Plot feature importance\n",
    "    importances.sort_values(ascending=False).head(10).plot(kind=\"barh\", figsize=(8,5))\n",
    "    plt.title(\"Top 10 Important Features\")\n",
    "    plt.show()\n",
    "else:\n",
    "    print(\"⚠️ Target column 'Fire' not found. Please adjust target_col variable.\")\n"
   ]
  }
 ],
 "metadata": {
  "kernelspec": {
   "display_name": "Python 3 (ipykernel)",
   "language": "python",
   "name": "python3"
  },
  "language_info": {
   "codemirror_mode": {
    "name": "ipython",
    "version": 3
   },
   "file_extension": ".py",
   "mimetype": "text/x-python",
   "name": "python",
   "nbconvert_exporter": "python",
   "pygments_lexer": "ipython3",
   "version": "3.13.7"
  }
 },
 "nbformat": 4,
 "nbformat_minor": 5
}
